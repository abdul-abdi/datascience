{
  "nbformat": 4,
  "nbformat_minor": 0,
  "metadata": {
    "colab": {
      "provenance": [],
      "authorship_tag": "ABX9TyPl2xR7iE3rBmScfljYZW/6",
      "include_colab_link": true
    },
    "kernelspec": {
      "name": "python3",
      "display_name": "Python 3"
    },
    "language_info": {
      "name": "python"
    }
  },
  "cells": [
    {
      "cell_type": "markdown",
      "metadata": {
        "id": "view-in-github",
        "colab_type": "text"
      },
      "source": [
        "<a href=\"https://colab.research.google.com/github/abdul-abdi/datascience/blob/main/data_science_project.ipynb\" target=\"_parent\"><img src=\"https://colab.research.google.com/assets/colab-badge.svg\" alt=\"Open In Colab\"/></a>"
      ]
    },
    {
      "cell_type": "code",
      "execution_count": 35,
      "metadata": {
        "colab": {
          "base_uri": "https://localhost:8080/"
        },
        "id": "uItfL35_0owR",
        "outputId": "15a37ce6-a2af-4f25-93eb-7db0d9be9047"
      },
      "outputs": [
        {
          "output_type": "stream",
          "name": "stdout",
          "text": [
            "Mean Squared Error: 3.163159646828947\n"
          ]
        },
        {
          "output_type": "execute_result",
          "data": {
            "text/plain": [
              "['accident_severity_model.pkl']"
            ]
          },
          "metadata": {},
          "execution_count": 35
        }
      ],
      "source": [
        "import pandas as pd\n",
        "from sklearn.model_selection import train_test_split\n",
        "from sklearn.linear_model import LinearRegression\n",
        "from sklearn.metrics import mean_squared_error\n",
        "import joblib\n",
        "from sklearn.preprocessing import LabelEncoder\n",
        "\n",
        "# Load the dataset\n",
        "data = pd.read_csv(\"dataset - tableConvert.com_ulb3bn.csv\")\n",
        "\n",
        "# Extract year, month, and day from the 'Date' column\n",
        "data['Date'] = pd.to_datetime(data['Date'])\n",
        "data['Year'] = data['Date'].dt.year\n",
        "data['Month'] = data['Date'].dt.month\n",
        "data['Day'] = data['Date'].dt.day\n",
        "\n",
        "# Drop the original 'Date' column\n",
        "data.drop(columns=['Date'], inplace=True)\n",
        "\n",
        "# Extract hours and minutes from the 'Time' column\n",
        "data['Time'] = pd.to_datetime(data['Time']).dt.hour * 60 + pd.to_datetime(data['Time']).dt.minute\n",
        "\n",
        "# Apply label encoding to the 'Location' column\n",
        "label_encoder = LabelEncoder()\n",
        "data['Location'] = label_encoder.fit_transform(data['Location'])\n",
        "\n",
        "# Perform one-hot encoding for the remaining categorical columns\n",
        "categorical_columns = ['VehicleTypes', 'Pedestrian/Cyclist', 'WeatherConditions', 'RoadConditions', 'OtherRelevantFactors']\n",
        "data = pd.get_dummies(data, columns=categorical_columns)\n",
        "\n",
        "# Apply label encoding to the 'Severity' column\n",
        "data['Severity'] = label_encoder.fit_transform(data['Severity'])\n",
        "\n",
        "# Define the dependent variable (Severity) and independent variables\n",
        "X = data.drop(columns=['Severity'])\n",
        "y = data['Severity']\n",
        "\n",
        "# Split the data into training and testing sets\n",
        "X_train, X_test, y_train, y_test = train_test_split(X, y, test_size=0.2, random_state=42)\n",
        "\n",
        "# Create a Linear Regression model\n",
        "model = LinearRegression()\n",
        "\n",
        "# Train the model\n",
        "model.fit(X_train, y_train)\n",
        "\n",
        "# Make predictions\n",
        "y_pred = model.predict(X_test)\n",
        "\n",
        "# Evaluate the model\n",
        "mse = mean_squared_error(y_test, y_pred)\n",
        "print(\"Mean Squared Error:\", mse)\n",
        "\n",
        "# Save the model for future use\n",
        "joblib.dump(model, \"accident_severity_model.pkl\")\n",
        "\n",
        "# Identification of High-Risk Areas:\n",
        "# The model can analyze historical accident data to identify areas with a high incidence of accidents.\n",
        "# Authorities can allocate resources to improve road safety in these locations.\n",
        "\n",
        "# Weather and Road Condition Analysis:\n",
        "# By analyzing the impact of weather and road conditions on accident severity,\n",
        "# the model can provide insights into when and where accidents are most likely to occur.\n",
        "# This information can be used to issue warnings and advisories during adverse weather conditions.\n",
        "\n",
        "# Resource Allocation:\n",
        "# Governments and organizations can use the model to allocate resources effectively.\n",
        "# For example, if the model indicates a high correlation between the severity of accidents\n",
        "# and specific factors, such as road conditions, resources can be allocated to maintain or improve road surfaces.\n",
        "\n",
        "# Traffic Management and Regulation:\n",
        "# The model can assist in optimizing traffic management and regulation.\n",
        "# For instance, during peak accident-prone hours, traffic rules can be enforced more rigorously\n",
        "# to reduce the likelihood of severe accidents.\n",
        "\n",
        "# Public Awareness Campaigns:\n",
        "# Insights from the model can inform public awareness campaigns.\n",
        "# Educational programs can be designed to inform drivers and pedestrians\n",
        "# about factors that contribute to accident severity and how to mitigate risks.\n",
        "\n",
        "# Emergency Response Planning:\n",
        "# The model can help authorities plan for emergency response more effectively.\n",
        "# It can predict the potential severity of accidents, allowing for better allocation\n",
        "# of medical resources and personnel.\n",
        "\n",
        "# Long-Term Infrastructure Improvements:\n",
        "# By analyzing trends in accident severity, the model can guide long-term infrastructure improvements,\n",
        "# such as building safer roads, improving signage, and implementing speed limits.\n",
        "\n",
        "# Early Warning Systems:\n",
        "# The model can be integrated into early warning systems to provide alerts to drivers and pedestrians\n",
        "# when they are entering accident-prone areas or when conditions are likely to lead to accidents.\n"
      ]
    }
  ]
}